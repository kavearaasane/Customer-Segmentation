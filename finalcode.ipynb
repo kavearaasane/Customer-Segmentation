{
 "cells": [
  {
   "cell_type": "code",
   "execution_count": 30,
   "id": "265781d2",
   "metadata": {},
   "outputs": [],
   "source": [
    "import pandas as pd\n",
    "import numpy as np"
   ]
  },
  {
   "cell_type": "code",
   "execution_count": 31,
   "id": "90461caf",
   "metadata": {},
   "outputs": [],
   "source": [
    "df=pd.read_csv('p3.csv')"
   ]
  },
  {
   "cell_type": "code",
   "execution_count": 32,
   "id": "e5580856",
   "metadata": {},
   "outputs": [
    {
     "data": {
      "text/html": [
       "<div>\n",
       "<style scoped>\n",
       "    .dataframe tbody tr th:only-of-type {\n",
       "        vertical-align: middle;\n",
       "    }\n",
       "\n",
       "    .dataframe tbody tr th {\n",
       "        vertical-align: top;\n",
       "    }\n",
       "\n",
       "    .dataframe thead th {\n",
       "        text-align: right;\n",
       "    }\n",
       "</style>\n",
       "<table border=\"1\" class=\"dataframe\">\n",
       "  <thead>\n",
       "    <tr style=\"text-align: right;\">\n",
       "      <th></th>\n",
       "      <th>sno</th>\n",
       "      <th>Make</th>\n",
       "      <th>Model</th>\n",
       "      <th>Variant</th>\n",
       "      <th>Ex-Showroom_price</th>\n",
       "      <th>Displacement</th>\n",
       "      <th>Cylinders</th>\n",
       "      <th>Valves_Per_Cylinder</th>\n",
       "      <th>Drivetrain</th>\n",
       "      <th>Cylinder_Configuration</th>\n",
       "      <th>...</th>\n",
       "      <th>Leather_Wrapped_Steering</th>\n",
       "      <th>Automatic_Headlamps</th>\n",
       "      <th>Engine_Type</th>\n",
       "      <th>ASR_/_Traction_Control</th>\n",
       "      <th>Cruise_Control</th>\n",
       "      <th>USB_Ports</th>\n",
       "      <th>Heads-Up_Display</th>\n",
       "      <th>Welcome_Lights</th>\n",
       "      <th>Battery</th>\n",
       "      <th>Electric_Range</th>\n",
       "    </tr>\n",
       "  </thead>\n",
       "  <tbody>\n",
       "    <tr>\n",
       "      <th>0</th>\n",
       "      <td>0.0</td>\n",
       "      <td>Tata</td>\n",
       "      <td>Nano Genx</td>\n",
       "      <td>Xt</td>\n",
       "      <td>292667.0</td>\n",
       "      <td>624 cc</td>\n",
       "      <td>2.0</td>\n",
       "      <td>2.0</td>\n",
       "      <td>RWD (Rear Wheel Drive)</td>\n",
       "      <td>In-line</td>\n",
       "      <td>...</td>\n",
       "      <td>NaN</td>\n",
       "      <td>NaN</td>\n",
       "      <td>NaN</td>\n",
       "      <td>NaN</td>\n",
       "      <td>NaN</td>\n",
       "      <td>NaN</td>\n",
       "      <td>NaN</td>\n",
       "      <td>NaN</td>\n",
       "      <td>NaN</td>\n",
       "      <td>NaN</td>\n",
       "    </tr>\n",
       "    <tr>\n",
       "      <th>1</th>\n",
       "      <td>1.0</td>\n",
       "      <td>Tata</td>\n",
       "      <td>Nano Genx</td>\n",
       "      <td>Xe</td>\n",
       "      <td>236447.0</td>\n",
       "      <td>624 cc</td>\n",
       "      <td>2.0</td>\n",
       "      <td>2.0</td>\n",
       "      <td>RWD (Rear Wheel Drive)</td>\n",
       "      <td>In-line</td>\n",
       "      <td>...</td>\n",
       "      <td>NaN</td>\n",
       "      <td>NaN</td>\n",
       "      <td>NaN</td>\n",
       "      <td>NaN</td>\n",
       "      <td>NaN</td>\n",
       "      <td>NaN</td>\n",
       "      <td>NaN</td>\n",
       "      <td>NaN</td>\n",
       "      <td>NaN</td>\n",
       "      <td>NaN</td>\n",
       "    </tr>\n",
       "    <tr>\n",
       "      <th>2</th>\n",
       "      <td>2.0</td>\n",
       "      <td>Tata</td>\n",
       "      <td>Nano Genx</td>\n",
       "      <td>Emax Xm</td>\n",
       "      <td>296661.0</td>\n",
       "      <td>624 cc</td>\n",
       "      <td>2.0</td>\n",
       "      <td>2.0</td>\n",
       "      <td>RWD (Rear Wheel Drive)</td>\n",
       "      <td>In-line</td>\n",
       "      <td>...</td>\n",
       "      <td>NaN</td>\n",
       "      <td>NaN</td>\n",
       "      <td>NaN</td>\n",
       "      <td>NaN</td>\n",
       "      <td>NaN</td>\n",
       "      <td>NaN</td>\n",
       "      <td>NaN</td>\n",
       "      <td>NaN</td>\n",
       "      <td>NaN</td>\n",
       "      <td>NaN</td>\n",
       "    </tr>\n",
       "    <tr>\n",
       "      <th>3</th>\n",
       "      <td>3.0</td>\n",
       "      <td>Tata</td>\n",
       "      <td>Nano Genx</td>\n",
       "      <td>Xta</td>\n",
       "      <td>334768.0</td>\n",
       "      <td>624 cc</td>\n",
       "      <td>2.0</td>\n",
       "      <td>2.0</td>\n",
       "      <td>RWD (Rear Wheel Drive)</td>\n",
       "      <td>In-line</td>\n",
       "      <td>...</td>\n",
       "      <td>NaN</td>\n",
       "      <td>NaN</td>\n",
       "      <td>NaN</td>\n",
       "      <td>NaN</td>\n",
       "      <td>NaN</td>\n",
       "      <td>NaN</td>\n",
       "      <td>NaN</td>\n",
       "      <td>NaN</td>\n",
       "      <td>NaN</td>\n",
       "      <td>NaN</td>\n",
       "    </tr>\n",
       "    <tr>\n",
       "      <th>4</th>\n",
       "      <td>4.0</td>\n",
       "      <td>Tata</td>\n",
       "      <td>Nano Genx</td>\n",
       "      <td>Xm</td>\n",
       "      <td>272223.0</td>\n",
       "      <td>624 cc</td>\n",
       "      <td>2.0</td>\n",
       "      <td>2.0</td>\n",
       "      <td>RWD (Rear Wheel Drive)</td>\n",
       "      <td>In-line</td>\n",
       "      <td>...</td>\n",
       "      <td>NaN</td>\n",
       "      <td>NaN</td>\n",
       "      <td>NaN</td>\n",
       "      <td>NaN</td>\n",
       "      <td>NaN</td>\n",
       "      <td>NaN</td>\n",
       "      <td>NaN</td>\n",
       "      <td>NaN</td>\n",
       "      <td>NaN</td>\n",
       "      <td>NaN</td>\n",
       "    </tr>\n",
       "  </tbody>\n",
       "</table>\n",
       "<p>5 rows × 141 columns</p>\n",
       "</div>"
      ],
      "text/plain": [
       "   sno  Make      Model  Variant  Ex-Showroom_price Displacement  Cylinders  \\\n",
       "0  0.0  Tata  Nano Genx       Xt           292667.0       624 cc        2.0   \n",
       "1  1.0  Tata  Nano Genx       Xe           236447.0       624 cc        2.0   \n",
       "2  2.0  Tata  Nano Genx  Emax Xm           296661.0       624 cc        2.0   \n",
       "3  3.0  Tata  Nano Genx      Xta           334768.0       624 cc        2.0   \n",
       "4  4.0  Tata  Nano Genx       Xm           272223.0       624 cc        2.0   \n",
       "\n",
       "   Valves_Per_Cylinder              Drivetrain Cylinder_Configuration  ...  \\\n",
       "0                  2.0  RWD (Rear Wheel Drive)                In-line  ...   \n",
       "1                  2.0  RWD (Rear Wheel Drive)                In-line  ...   \n",
       "2                  2.0  RWD (Rear Wheel Drive)                In-line  ...   \n",
       "3                  2.0  RWD (Rear Wheel Drive)                In-line  ...   \n",
       "4                  2.0  RWD (Rear Wheel Drive)                In-line  ...   \n",
       "\n",
       "  Leather_Wrapped_Steering Automatic_Headlamps Engine_Type  \\\n",
       "0                      NaN                 NaN         NaN   \n",
       "1                      NaN                 NaN         NaN   \n",
       "2                      NaN                 NaN         NaN   \n",
       "3                      NaN                 NaN         NaN   \n",
       "4                      NaN                 NaN         NaN   \n",
       "\n",
       "  ASR_/_Traction_Control Cruise_Control USB_Ports Heads-Up_Display  \\\n",
       "0                    NaN            NaN       NaN              NaN   \n",
       "1                    NaN            NaN       NaN              NaN   \n",
       "2                    NaN            NaN       NaN              NaN   \n",
       "3                    NaN            NaN       NaN              NaN   \n",
       "4                    NaN            NaN       NaN              NaN   \n",
       "\n",
       "  Welcome_Lights Battery  Electric_Range  \n",
       "0            NaN     NaN             NaN  \n",
       "1            NaN     NaN             NaN  \n",
       "2            NaN     NaN             NaN  \n",
       "3            NaN     NaN             NaN  \n",
       "4            NaN     NaN             NaN  \n",
       "\n",
       "[5 rows x 141 columns]"
      ]
     },
     "execution_count": 32,
     "metadata": {},
     "output_type": "execute_result"
    }
   ],
   "source": [
    "df.head()"
   ]
  },
  {
   "cell_type": "code",
   "execution_count": 33,
   "id": "9840013e",
   "metadata": {},
   "outputs": [
    {
     "data": {
      "text/plain": [
       "180480"
      ]
     },
     "execution_count": 33,
     "metadata": {},
     "output_type": "execute_result"
    }
   ],
   "source": [
    "df.size"
   ]
  },
  {
   "cell_type": "code",
   "execution_count": 83,
   "id": "f694b17b",
   "metadata": {},
   "outputs": [
    {
     "name": "stdout",
     "output_type": "stream",
     "text": [
      "<class 'pandas.core.frame.DataFrame'>\n",
      "RangeIndex: 1280 entries, 0 to 1279\n",
      "Data columns (total 143 columns):\n",
      " #    Column                                     Dtype  \n",
      "---   ------                                     -----  \n",
      " 0    sno                                        float64\n",
      " 1    Make                                       object \n",
      " 2    Model                                      object \n",
      " 3    Variant                                    object \n",
      " 4    Ex-Showroom_price                          float64\n",
      " 5    Displacement                               object \n",
      " 6    Cylinders                                  float64\n",
      " 7    Valves_Per_Cylinder                        float64\n",
      " 8    Drivetrain                                 object \n",
      " 9    Cylinder_Configuration                     object \n",
      " 10   Emission_Norm                              object \n",
      " 11   Engine_Location                            object \n",
      " 12   Fuel_System                                object \n",
      " 13   Fuel_Tank_Capacity                         object \n",
      " 14   Fuel_Type                                  float64\n",
      " 15   Height                                     object \n",
      " 16   Length                                     object \n",
      " 17   Width                                      object \n",
      " 18   Body_Type                                  object \n",
      " 19   Doors                                      float64\n",
      " 20   City_Mileage_in_km/litre                   object \n",
      " 21   Highway_Mileage                            object \n",
      " 22   ARAI_Certified_Mileage                     object \n",
      " 23   ARAI_Certified_Mileage_for_CNG             object \n",
      " 24   Kerb_Weight                                object \n",
      " 25   Gears                                      object \n",
      " 26   Ground_Clearance                           object \n",
      " 27   Front_Brakes                               object \n",
      " 28   Rear_Brakes                                object \n",
      " 29   Front_Suspension                           object \n",
      " 30   Rear_Suspension                            object \n",
      " 31   Front_Track                                object \n",
      " 32   Rear_Track                                 object \n",
      " 33   Front_Tyre_&_Rim                           object \n",
      " 34   Rear_Tyre_&_Rim                            object \n",
      " 35   Power_Steering                             object \n",
      " 36   Power_Windows                              object \n",
      " 37   Power_Seats                                object \n",
      " 38   Keyless_Entry                              object \n",
      " 39   Power                                      object \n",
      " 40   Torque                                     object \n",
      " 41   Odometer                                   object \n",
      " 42   Speedometer                                object \n",
      " 43   Tachometer                                 object \n",
      " 44   Tripmeter                                  object \n",
      " 45   Seating_Capacity                           float64\n",
      " 46   Seats_Material                             object \n",
      " 47   Type                                       object \n",
      " 48   Wheelbase                                  object \n",
      " 49   Wheels_Size                                object \n",
      " 50   Start_/_Stop_Button                        object \n",
      " 51   12v_Power_Outlet                           object \n",
      " 52   Audiosystem                                object \n",
      " 53   Aux-in_Compatibility                       object \n",
      " 54   Average_Fuel_Consumption                   object \n",
      " 55   Basic_Warranty                             object \n",
      " 56   Bluetooth                                  object \n",
      " 57   Boot-lid_Opener                            object \n",
      " 58   Boot_Space                                 object \n",
      " 59   CD_/_MP3_/_DVD_Player                      object \n",
      " 60   Central_Locking                            object \n",
      " 61   Child_Safety_Locks                         object \n",
      " 62   Clock                                      object \n",
      " 63   Cup_Holders                                object \n",
      " 64   Distance_to_Empty                          object \n",
      " 65   Door_Pockets                               object \n",
      " 66   Engine_Malfunction_Light                   object \n",
      " 67   Extended_Warranty                          object \n",
      " 68   FM_Radio                                   object \n",
      " 69   Fuel-lid_Opener                            object \n",
      " 70   Fuel_Gauge                                 object \n",
      " 71   Handbrake                                  object \n",
      " 72   Instrument_Console                         object \n",
      " 73   Low_Fuel_Warning                           object \n",
      " 74   Minimum_Turning_Radius                     object \n",
      " 75   Multifunction_Display                      object \n",
      " 76   Sun_Visor                                  object \n",
      " 77   Third_Row_AC_Vents                         object \n",
      " 78   Ventilation_System                         object \n",
      " 79   Auto-Dimming_Rear-View_Mirror              object \n",
      " 80   Hill_Assist                                object \n",
      " 81   Gear_Indicator                             object \n",
      " 82   3_Point_Seat-Belt_in_Middle_Rear_Seat      object \n",
      " 83   Ambient_Lightning                          object \n",
      " 84   Cargo/Boot_Lights                          object \n",
      " 85   Drive_Modes                                object \n",
      " 86   Engine_Immobilizer                         object \n",
      " 87   High_Speed_Alert_System                    object \n",
      " 88   Lane_Watch_Camera/_Side_Mirror_Camera      object \n",
      " 89   Passenger_Side_Seat-Belt_Reminder          object \n",
      " 90   Seat_Back_Pockets                          object \n",
      " 91   Voice_Recognition                          object \n",
      " 92   Walk_Away_Auto_Car_Lock                    object \n",
      " 93   ABS_(Anti-lock_Braking_System)             object \n",
      " 94   Headlight_Reminder                         object \n",
      " 95   Adjustable_Headrests                       object \n",
      " 96   Gross_Vehicle_Weight                       object \n",
      " 97   Airbags                                    object \n",
      " 98   Door_Ajar_Warning                          object \n",
      " 99   EBD_(Electronic_Brake-force_Distribution)  object \n",
      " 100  Fasten_Seat_Belt_Warning                   object \n",
      " 101  Gear_Shift_Reminder                        object \n",
      " 102  Number_of_Airbags                          float64\n",
      " 103  Compression_Ratio                          object \n",
      " 104  Adjustable_Steering_Column                 object \n",
      " 105  Other_Specs                                object \n",
      " 106  Other_specs                                object \n",
      " 107  Parking_Assistance                         object \n",
      " 108  Key_Off_Reminder                           object \n",
      " 109  USB_Compatibility                          object \n",
      " 110  Android_Auto                               object \n",
      " 111  Apple_CarPlay                              object \n",
      " 112  Cigarette_Lighter                          object \n",
      " 113  Infotainment_Screen                        object \n",
      " 114  Multifunction_Steering_Wheel               object \n",
      " 115  Average_Speed                              object \n",
      " 116  EBA_(Electronic_Brake_Assist)              object \n",
      " 117  Seat_Height_Adjustment                     object \n",
      " 118  Navigation_System                          object \n",
      " 119  Second_Row_AC_Vents                        object \n",
      " 120  Tyre_Pressure_Monitoring_System            object \n",
      " 121  Rear_Center_Armrest                        object \n",
      " 122  iPod_Compatibility                         object \n",
      " 123  ESP_(Electronic_Stability_Program)         object \n",
      " 124  Cooled_Glove_Box                           object \n",
      " 125  Recommended_Tyre_Pressure                  object \n",
      " 126  Heated_Seats                               object \n",
      " 127  Turbocharger                               object \n",
      " 128  ISOFIX_(Child-Seat_Mount)                  object \n",
      " 129  Rain_Sensing_Wipers                        object \n",
      " 130  Paddle_Shifters                            object \n",
      " 131  Leather_Wrapped_Steering                   object \n",
      " 132  Automatic_Headlamps                        object \n",
      " 133  Engine_Type                                object \n",
      " 134  ASR_/_Traction_Control                     object \n",
      " 135  Cruise_Control                             object \n",
      " 136  USB_Ports                                  float64\n",
      " 137  Heads-Up_Display                           object \n",
      " 138  Welcome_Lights                             object \n",
      " 139  Battery                                    object \n",
      " 140  Electric_Range                             object \n",
      " 141  Fuel                                       int32  \n",
      " 142  clusterpred                                int32  \n",
      "dtypes: float64(9), int32(2), object(132)\n",
      "memory usage: 1.4+ MB\n"
     ]
    },
    {
     "data": {
      "text/html": [
       "<div>\n",
       "<style scoped>\n",
       "    .dataframe tbody tr th:only-of-type {\n",
       "        vertical-align: middle;\n",
       "    }\n",
       "\n",
       "    .dataframe tbody tr th {\n",
       "        vertical-align: top;\n",
       "    }\n",
       "\n",
       "    .dataframe thead th {\n",
       "        text-align: right;\n",
       "    }\n",
       "</style>\n",
       "<table border=\"1\" class=\"dataframe\">\n",
       "  <thead>\n",
       "    <tr style=\"text-align: right;\">\n",
       "      <th></th>\n",
       "    </tr>\n",
       "  </thead>\n",
       "  <tbody>\n",
       "  </tbody>\n",
       "</table>\n",
       "</div>"
      ],
      "text/plain": [
       "Empty DataFrame\n",
       "Columns: []\n",
       "Index: []"
      ]
     },
     "execution_count": 83,
     "metadata": {},
     "output_type": "execute_result"
    }
   ],
   "source": [
    "pd.DataFrame(df.info(141))"
   ]
  },
  {
   "cell_type": "code",
   "execution_count": 34,
   "id": "c37df2c2",
   "metadata": {},
   "outputs": [
    {
     "data": {
      "text/plain": [
       "0        292667.0\n",
       "1        236447.0\n",
       "2        296661.0\n",
       "3        334768.0\n",
       "4        272223.0\n",
       "          ...    \n",
       "1275    6862560.0\n",
       "1276          0.0\n",
       "1277          0.0\n",
       "1278          0.0\n",
       "1279          0.0\n",
       "Name: Ex-Showroom_price, Length: 1280, dtype: float64"
      ]
     },
     "execution_count": 34,
     "metadata": {},
     "output_type": "execute_result"
    }
   ],
   "source": [
    "df['Ex-Showroom_price'].fillna(0)"
   ]
  },
  {
   "cell_type": "code",
   "execution_count": 35,
   "id": "952404db",
   "metadata": {},
   "outputs": [
    {
     "data": {
      "text/plain": [
       "0       Petrol\n",
       "1       Petrol\n",
       "2          CNG\n",
       "3       Petrol\n",
       "4       Petrol\n",
       "         ...  \n",
       "1275    Diesel\n",
       "1276       NaN\n",
       "1277       NaN\n",
       "1278       NaN\n",
       "1279       NaN\n",
       "Name: Fuel_Type, Length: 1280, dtype: object"
      ]
     },
     "execution_count": 35,
     "metadata": {},
     "output_type": "execute_result"
    }
   ],
   "source": [
    "df['Fuel_Type']"
   ]
  },
  {
   "cell_type": "code",
   "execution_count": 36,
   "id": "f346652d",
   "metadata": {},
   "outputs": [],
   "source": [
    " #Petrol ,CNG, Diesel,,Hybrid ,Electric ,CNG + Petrol\n",
    "\n",
    "datamap={\n",
    "    'Petrol':1,\n",
    "    'Diesel':2,\n",
    "    'CNG':3,\n",
    "    'Hybrid':4,\n",
    "    'Electric':5,\n",
    "    'CNG + Petrol':6\n",
    "}\n",
    "df['Fuel_Type']=df['Fuel_Type'].map(datamap)\n"
   ]
  },
  {
   "cell_type": "code",
   "execution_count": 37,
   "id": "e0da03fa",
   "metadata": {},
   "outputs": [
    {
     "data": {
      "text/plain": [
       "0       1.0\n",
       "1       1.0\n",
       "2       3.0\n",
       "3       1.0\n",
       "4       1.0\n",
       "       ... \n",
       "1275    2.0\n",
       "1276    NaN\n",
       "1277    NaN\n",
       "1278    NaN\n",
       "1279    NaN\n",
       "Name: Fuel_Type, Length: 1280, dtype: float64"
      ]
     },
     "execution_count": 37,
     "metadata": {},
     "output_type": "execute_result"
    }
   ],
   "source": [
    "df['Fuel_Type']"
   ]
  },
  {
   "cell_type": "code",
   "execution_count": 38,
   "id": "9fe08c1a",
   "metadata": {},
   "outputs": [
    {
     "data": {
      "text/plain": [
       "0       23.6\n",
       "1       23.6\n",
       "2          0\n",
       "3       23.6\n",
       "4       23.6\n",
       "        ... \n",
       "1275    8.25\n",
       "1276       0\n",
       "1277       0\n",
       "1278       0\n",
       "1279       0\n",
       "Name: City_Mileage_in_km/litre, Length: 1280, dtype: object"
      ]
     },
     "execution_count": 38,
     "metadata": {},
     "output_type": "execute_result"
    }
   ],
   "source": [
    "df['City_Mileage_in_km/litre'].fillna(0)"
   ]
  },
  {
   "cell_type": "code",
   "execution_count": 39,
   "id": "22c007a3",
   "metadata": {},
   "outputs": [
    {
     "data": {
      "text/html": [
       "<div>\n",
       "<style scoped>\n",
       "    .dataframe tbody tr th:only-of-type {\n",
       "        vertical-align: middle;\n",
       "    }\n",
       "\n",
       "    .dataframe tbody tr th {\n",
       "        vertical-align: top;\n",
       "    }\n",
       "\n",
       "    .dataframe thead th {\n",
       "        text-align: right;\n",
       "    }\n",
       "</style>\n",
       "<table border=\"1\" class=\"dataframe\">\n",
       "  <thead>\n",
       "    <tr style=\"text-align: right;\">\n",
       "      <th></th>\n",
       "      <th>sno</th>\n",
       "      <th>Make</th>\n",
       "      <th>Model</th>\n",
       "      <th>Variant</th>\n",
       "      <th>Ex-Showroom_price</th>\n",
       "      <th>Displacement</th>\n",
       "      <th>Cylinders</th>\n",
       "      <th>Valves_Per_Cylinder</th>\n",
       "      <th>Drivetrain</th>\n",
       "      <th>Cylinder_Configuration</th>\n",
       "      <th>...</th>\n",
       "      <th>Leather_Wrapped_Steering</th>\n",
       "      <th>Automatic_Headlamps</th>\n",
       "      <th>Engine_Type</th>\n",
       "      <th>ASR_/_Traction_Control</th>\n",
       "      <th>Cruise_Control</th>\n",
       "      <th>USB_Ports</th>\n",
       "      <th>Heads-Up_Display</th>\n",
       "      <th>Welcome_Lights</th>\n",
       "      <th>Battery</th>\n",
       "      <th>Electric_Range</th>\n",
       "    </tr>\n",
       "  </thead>\n",
       "  <tbody>\n",
       "    <tr>\n",
       "      <th>0</th>\n",
       "      <td>0.0</td>\n",
       "      <td>Tata</td>\n",
       "      <td>Nano Genx</td>\n",
       "      <td>Xt</td>\n",
       "      <td>292667.0</td>\n",
       "      <td>624 cc</td>\n",
       "      <td>2.0</td>\n",
       "      <td>2.0</td>\n",
       "      <td>RWD (Rear Wheel Drive)</td>\n",
       "      <td>In-line</td>\n",
       "      <td>...</td>\n",
       "      <td>NaN</td>\n",
       "      <td>NaN</td>\n",
       "      <td>NaN</td>\n",
       "      <td>NaN</td>\n",
       "      <td>NaN</td>\n",
       "      <td>NaN</td>\n",
       "      <td>NaN</td>\n",
       "      <td>NaN</td>\n",
       "      <td>NaN</td>\n",
       "      <td>NaN</td>\n",
       "    </tr>\n",
       "    <tr>\n",
       "      <th>1</th>\n",
       "      <td>1.0</td>\n",
       "      <td>Tata</td>\n",
       "      <td>Nano Genx</td>\n",
       "      <td>Xe</td>\n",
       "      <td>236447.0</td>\n",
       "      <td>624 cc</td>\n",
       "      <td>2.0</td>\n",
       "      <td>2.0</td>\n",
       "      <td>RWD (Rear Wheel Drive)</td>\n",
       "      <td>In-line</td>\n",
       "      <td>...</td>\n",
       "      <td>NaN</td>\n",
       "      <td>NaN</td>\n",
       "      <td>NaN</td>\n",
       "      <td>NaN</td>\n",
       "      <td>NaN</td>\n",
       "      <td>NaN</td>\n",
       "      <td>NaN</td>\n",
       "      <td>NaN</td>\n",
       "      <td>NaN</td>\n",
       "      <td>NaN</td>\n",
       "    </tr>\n",
       "    <tr>\n",
       "      <th>2</th>\n",
       "      <td>2.0</td>\n",
       "      <td>Tata</td>\n",
       "      <td>Nano Genx</td>\n",
       "      <td>Emax Xm</td>\n",
       "      <td>296661.0</td>\n",
       "      <td>624 cc</td>\n",
       "      <td>2.0</td>\n",
       "      <td>2.0</td>\n",
       "      <td>RWD (Rear Wheel Drive)</td>\n",
       "      <td>In-line</td>\n",
       "      <td>...</td>\n",
       "      <td>NaN</td>\n",
       "      <td>NaN</td>\n",
       "      <td>NaN</td>\n",
       "      <td>NaN</td>\n",
       "      <td>NaN</td>\n",
       "      <td>NaN</td>\n",
       "      <td>NaN</td>\n",
       "      <td>NaN</td>\n",
       "      <td>NaN</td>\n",
       "      <td>NaN</td>\n",
       "    </tr>\n",
       "    <tr>\n",
       "      <th>3</th>\n",
       "      <td>3.0</td>\n",
       "      <td>Tata</td>\n",
       "      <td>Nano Genx</td>\n",
       "      <td>Xta</td>\n",
       "      <td>334768.0</td>\n",
       "      <td>624 cc</td>\n",
       "      <td>2.0</td>\n",
       "      <td>2.0</td>\n",
       "      <td>RWD (Rear Wheel Drive)</td>\n",
       "      <td>In-line</td>\n",
       "      <td>...</td>\n",
       "      <td>NaN</td>\n",
       "      <td>NaN</td>\n",
       "      <td>NaN</td>\n",
       "      <td>NaN</td>\n",
       "      <td>NaN</td>\n",
       "      <td>NaN</td>\n",
       "      <td>NaN</td>\n",
       "      <td>NaN</td>\n",
       "      <td>NaN</td>\n",
       "      <td>NaN</td>\n",
       "    </tr>\n",
       "    <tr>\n",
       "      <th>4</th>\n",
       "      <td>4.0</td>\n",
       "      <td>Tata</td>\n",
       "      <td>Nano Genx</td>\n",
       "      <td>Xm</td>\n",
       "      <td>272223.0</td>\n",
       "      <td>624 cc</td>\n",
       "      <td>2.0</td>\n",
       "      <td>2.0</td>\n",
       "      <td>RWD (Rear Wheel Drive)</td>\n",
       "      <td>In-line</td>\n",
       "      <td>...</td>\n",
       "      <td>NaN</td>\n",
       "      <td>NaN</td>\n",
       "      <td>NaN</td>\n",
       "      <td>NaN</td>\n",
       "      <td>NaN</td>\n",
       "      <td>NaN</td>\n",
       "      <td>NaN</td>\n",
       "      <td>NaN</td>\n",
       "      <td>NaN</td>\n",
       "      <td>NaN</td>\n",
       "    </tr>\n",
       "  </tbody>\n",
       "</table>\n",
       "<p>5 rows × 141 columns</p>\n",
       "</div>"
      ],
      "text/plain": [
       "   sno  Make      Model  Variant  Ex-Showroom_price Displacement  Cylinders  \\\n",
       "0  0.0  Tata  Nano Genx       Xt           292667.0       624 cc        2.0   \n",
       "1  1.0  Tata  Nano Genx       Xe           236447.0       624 cc        2.0   \n",
       "2  2.0  Tata  Nano Genx  Emax Xm           296661.0       624 cc        2.0   \n",
       "3  3.0  Tata  Nano Genx      Xta           334768.0       624 cc        2.0   \n",
       "4  4.0  Tata  Nano Genx       Xm           272223.0       624 cc        2.0   \n",
       "\n",
       "   Valves_Per_Cylinder              Drivetrain Cylinder_Configuration  ...  \\\n",
       "0                  2.0  RWD (Rear Wheel Drive)                In-line  ...   \n",
       "1                  2.0  RWD (Rear Wheel Drive)                In-line  ...   \n",
       "2                  2.0  RWD (Rear Wheel Drive)                In-line  ...   \n",
       "3                  2.0  RWD (Rear Wheel Drive)                In-line  ...   \n",
       "4                  2.0  RWD (Rear Wheel Drive)                In-line  ...   \n",
       "\n",
       "  Leather_Wrapped_Steering Automatic_Headlamps Engine_Type  \\\n",
       "0                      NaN                 NaN         NaN   \n",
       "1                      NaN                 NaN         NaN   \n",
       "2                      NaN                 NaN         NaN   \n",
       "3                      NaN                 NaN         NaN   \n",
       "4                      NaN                 NaN         NaN   \n",
       "\n",
       "  ASR_/_Traction_Control  Cruise_Control USB_Ports Heads-Up_Display  \\\n",
       "0                    NaN             NaN       NaN              NaN   \n",
       "1                    NaN             NaN       NaN              NaN   \n",
       "2                    NaN             NaN       NaN              NaN   \n",
       "3                    NaN             NaN       NaN              NaN   \n",
       "4                    NaN             NaN       NaN              NaN   \n",
       "\n",
       "  Welcome_Lights Battery  Electric_Range  \n",
       "0            NaN     NaN             NaN  \n",
       "1            NaN     NaN             NaN  \n",
       "2            NaN     NaN             NaN  \n",
       "3            NaN     NaN             NaN  \n",
       "4            NaN     NaN             NaN  \n",
       "\n",
       "[5 rows x 141 columns]"
      ]
     },
     "execution_count": 39,
     "metadata": {},
     "output_type": "execute_result"
    }
   ],
   "source": [
    "df.head()"
   ]
  },
  {
   "cell_type": "code",
   "execution_count": 40,
   "id": "9264f099",
   "metadata": {},
   "outputs": [
    {
     "data": {
      "text/plain": [
       "0       1\n",
       "1       1\n",
       "2       3\n",
       "3       1\n",
       "4       1\n",
       "       ..\n",
       "1275    2\n",
       "1276    0\n",
       "1277    0\n",
       "1278    0\n",
       "1279    0\n",
       "Name: Fuel, Length: 1280, dtype: int32"
      ]
     },
     "execution_count": 40,
     "metadata": {},
     "output_type": "execute_result"
    }
   ],
   "source": [
    "df['Fuel']=df['Fuel_Type'].fillna(0).astype(int)\n",
    "df['Fuel']"
   ]
  },
  {
   "cell_type": "code",
   "execution_count": 41,
   "id": "fb033f8a",
   "metadata": {},
   "outputs": [],
   "source": [
    "import matplotlib.pyplot as plt"
   ]
  },
  {
   "cell_type": "code",
   "execution_count": 42,
   "id": "0691da74",
   "metadata": {},
   "outputs": [
    {
     "data": {
      "image/png": "[encoded data removed]",
      "text/plain": [
       "<Figure size 432x288 with 1 Axes>"
      ]
     },
     "metadata": {
      "needs_background": "light"
     },
     "output_type": "display_data"
    }
   ],
   "source": [
    "plt.scatter(df['Ex-Showroom_price'],df['Fuel'])\n",
    "plt.show()"
   ]
  },
  {
   "cell_type": "code",
   "execution_count": 43,
   "id": "51d5f561",
   "metadata": {},
   "outputs": [],
   "source": [
    "\n",
    "x=df['Ex-Showroom_price'].fillna(0).array.reshape(-1,1)\n",
    "y=df['Fuel'].fillna(0).array.reshape(-1,1)\n",
    "from sklearn.cluster import KMeans"
   ]
  },
  {
   "cell_type": "code",
   "execution_count": 44,
   "id": "507fee85",
   "metadata": {},
   "outputs": [
    {
     "data": {
      "text/plain": [
       "Text(0, 0.5, 'WCSS')"
      ]
     },
     "execution_count": 44,
     "metadata": {},
     "output_type": "execute_result"
    },
    {
     "data": {
      "image/png": "[encoded data removed]",
      "text/plain": [
       "<Figure size 432x288 with 1 Axes>"
      ]
     },
     "metadata": {
      "needs_background": "light"
     },
     "output_type": "display_data"
    }
   ],
   "source": [
    "#elbow method\n",
    "wcss=[]\n",
    "for i in range(2,7):\n",
    "    kmeans=KMeans(i)\n",
    "    kmeans.fit(x)\n",
    "    wcss_iter=kmeans.inertia_\n",
    "    wcss.append(wcss_iter)\n",
    "    \n",
    "number_clusters=range(2,7)\n",
    "plt.plot(number_clusters,wcss)\n",
    "plt.title('The Elbow Title')\n",
    "plt.xlabel('Number of clusters')\n",
    "plt.ylabel('WCSS')\n"
   ]
  },
  {
   "cell_type": "code",
   "execution_count": 45,
   "id": "a5c1e341",
   "metadata": {},
   "outputs": [
    {
     "data": {
      "text/plain": [
       "KMeans(n_clusters=3)"
      ]
     },
     "execution_count": 45,
     "metadata": {},
     "output_type": "execute_result"
    }
   ],
   "source": [
    "from sklearn.cluster import KMeans\n",
    "km=KMeans(n_clusters=3)\n",
    "km\n"
   ]
  },
  {
   "cell_type": "code",
   "execution_count": 46,
   "id": "7fef7120",
   "metadata": {},
   "outputs": [
    {
     "name": "stdout",
     "output_type": "stream",
     "text": [
      "[1 1 1 ... 1 1 1]\n"
     ]
    }
   ],
   "source": [
    "x=df['Ex-Showroom_price'].fillna(0).array.reshape(-1,1)\n",
    "y=df['Fuel'].fillna(0).array.reshape(-1,1)\n",
    "s=km.fit_predict(x,y)\n",
    "print(s)\n",
    "df['clusterpred']=s"
   ]
  },
  {
   "cell_type": "code",
   "execution_count": 47,
   "id": "5aea5d37",
   "metadata": {},
   "outputs": [],
   "source": [
    "import matplotlib.pyplot as plt"
   ]
  },
  {
   "cell_type": "code",
   "execution_count": 48,
   "id": "7cb4073d",
   "metadata": {},
   "outputs": [],
   "source": [
    "# formation of cluster"
   ]
  },
  {
   "cell_type": "code",
   "execution_count": 49,
   "id": "48662e5f",
   "metadata": {},
   "outputs": [
    {
     "data": {
      "text/plain": [
       "Text(0, 0.5, 'Fuel')"
      ]
     },
     "execution_count": 49,
     "metadata": {},
     "output_type": "execute_result"
    },
    {
     "data": {
      "image/png": "[encoded data removed]",
      "text/plain": [
       "<Figure size 432x288 with 1 Axes>"
      ]
     },
     "metadata": {
      "needs_background": "light"
     },
     "output_type": "display_data"
    }
   ],
   "source": [
    "df1=df[df.clusterpred==0]\n",
    "df2=df[df.clusterpred==1]\n",
    "df3=df[df.clusterpred==2]\n",
    "#df4=df[df.clusterpred==3]\n",
    "#df5=df[df.clusterpred==4]\n",
    "#df6=df[df.clusterpred==5]\n",
    "\n",
    "plt.scatter(df1['Ex-Showroom_price'],df1['Fuel'],color='brown')\n",
    "plt.scatter(df2['Ex-Showroom_price'],df2['Fuel'],color='green')\n",
    "plt.scatter(df3['Ex-Showroom_price'],df3['Fuel'],color='blue')\n",
    "#plt.scatter(df4['Ex-Showroom_price'],df4['Cylinders'],color='blue')\n",
    "#plt.scatter(df5['Ex-Showroom_price'],df5['Cylinders'],color='indigo')\n",
    "#plt.scatter(df6['Ex-Showroom_price'],df6['Cylinders'],color='brown')\n",
    "plt.xlabel(\"Ex-Showroom_price\")\n",
    "plt.ylabel(\"Fuel\")"
   ]
  },
  {
   "cell_type": "code",
   "execution_count": 50,
   "id": "a3aa6162",
   "metadata": {},
   "outputs": [],
   "source": [
    "# The elbow Method"
   ]
  },
  {
   "cell_type": "code",
   "execution_count": 51,
   "id": "2db7ed54",
   "metadata": {},
   "outputs": [
    {
     "data": {
      "text/plain": [
       "0           0\n",
       "1           0\n",
       "2           0\n",
       "3           0\n",
       "4           0\n",
       "        ...  \n",
       "1275    11.56\n",
       "1276        0\n",
       "1277        0\n",
       "1278        0\n",
       "1279        0\n",
       "Name: Highway_Mileage, Length: 1280, dtype: object"
      ]
     },
     "execution_count": 51,
     "metadata": {},
     "output_type": "execute_result"
    }
   ],
   "source": [
    "df['Highway_Mileage'].fillna(0)"
   ]
  },
  {
   "cell_type": "code",
   "execution_count": 52,
   "id": "6a255d2f",
   "metadata": {
    "scrolled": true
   },
   "outputs": [
    {
     "data": {
      "text/plain": [
       "0       Nano Genx\n",
       "1       Nano Genx\n",
       "2       Nano Genx\n",
       "3       Nano Genx\n",
       "4       Nano Genx\n",
       "          ...    \n",
       "1275      Montero\n",
       "1276            0\n",
       "1277            0\n",
       "1278            0\n",
       "1279            0\n",
       "Name: Model, Length: 1280, dtype: object"
      ]
     },
     "execution_count": 52,
     "metadata": {},
     "output_type": "execute_result"
    }
   ],
   "source": [
    "df['Model'].fillna(0)"
   ]
  },
  {
   "cell_type": "code",
   "execution_count": 53,
   "id": "ac47fe2b",
   "metadata": {},
   "outputs": [
    {
     "name": "stdout",
     "output_type": "stream",
     "text": [
      "<class 'pandas.core.frame.DataFrame'>\n",
      "RangeIndex: 1280 entries, 0 to 1279\n",
      "Data columns (total 143 columns):\n",
      " #    Column                                     Dtype  \n",
      "---   ------                                     -----  \n",
      " 0    sno                                        float64\n",
      " 1    Make                                       object \n",
      " 2    Model                                      object \n",
      " 3    Variant                                    object \n",
      " 4    Ex-Showroom_price                          float64\n",
      " 5    Displacement                               object \n",
      " 6    Cylinders                                  float64\n",
      " 7    Valves_Per_Cylinder                        float64\n",
      " 8    Drivetrain                                 object \n",
      " 9    Cylinder_Configuration                     object \n",
      " 10   Emission_Norm                              object \n",
      " 11   Engine_Location                            object \n",
      " 12   Fuel_System                                object \n",
      " 13   Fuel_Tank_Capacity                         object \n",
      " 14   Fuel_Type                                  float64\n",
      " 15   Height                                     object \n",
      " 16   Length                                     object \n",
      " 17   Width                                      object \n",
      " 18   Body_Type                                  object \n",
      " 19   Doors                                      float64\n",
      " 20   City_Mileage_in_km/litre                   object \n",
      " 21   Highway_Mileage                            object \n",
      " 22   ARAI_Certified_Mileage                     object \n",
      " 23   ARAI_Certified_Mileage_for_CNG             object \n",
      " 24   Kerb_Weight                                object \n",
      " 25   Gears                                      object \n",
      " 26   Ground_Clearance                           object \n",
      " 27   Front_Brakes                               object \n",
      " 28   Rear_Brakes                                object \n",
      " 29   Front_Suspension                           object \n",
      " 30   Rear_Suspension                            object \n",
      " 31   Front_Track                                object \n",
      " 32   Rear_Track                                 object \n",
      " 33   Front_Tyre_&_Rim                           object \n",
      " 34   Rear_Tyre_&_Rim                            object \n",
      " 35   Power_Steering                             object \n",
      " 36   Power_Windows                              object \n",
      " 37   Power_Seats                                object \n",
      " 38   Keyless_Entry                              object \n",
      " 39   Power                                      object \n",
      " 40   Torque                                     object \n",
      " 41   Odometer                                   object \n",
      " 42   Speedometer                                object \n",
      " 43   Tachometer                                 object \n",
      " 44   Tripmeter                                  object \n",
      " 45   Seating_Capacity                           float64\n",
      " 46   Seats_Material                             object \n",
      " 47   Type                                       object \n",
      " 48   Wheelbase                                  object \n",
      " 49   Wheels_Size                                object \n",
      " 50   Start_/_Stop_Button                        object \n",
      " 51   12v_Power_Outlet                           object \n",
      " 52   Audiosystem                                object \n",
      " 53   Aux-in_Compatibility                       object \n",
      " 54   Average_Fuel_Consumption                   object \n",
      " 55   Basic_Warranty                             object \n",
      " 56   Bluetooth                                  object \n",
      " 57   Boot-lid_Opener                            object \n",
      " 58   Boot_Space                                 object \n",
      " 59   CD_/_MP3_/_DVD_Player                      object \n",
      " 60   Central_Locking                            object \n",
      " 61   Child_Safety_Locks                         object \n",
      " 62   Clock                                      object \n",
      " 63   Cup_Holders                                object \n",
      " 64   Distance_to_Empty                          object \n",
      " 65   Door_Pockets                               object \n",
      " 66   Engine_Malfunction_Light                   object \n",
      " 67   Extended_Warranty                          object \n",
      " 68   FM_Radio                                   object \n",
      " 69   Fuel-lid_Opener                            object \n",
      " 70   Fuel_Gauge                                 object \n",
      " 71   Handbrake                                  object \n",
      " 72   Instrument_Console                         object \n",
      " 73   Low_Fuel_Warning                           object \n",
      " 74   Minimum_Turning_Radius                     object \n",
      " 75   Multifunction_Display                      object \n",
      " 76   Sun_Visor                                  object \n",
      " 77   Third_Row_AC_Vents                         object \n",
      " 78   Ventilation_System                         object \n",
      " 79   Auto-Dimming_Rear-View_Mirror              object \n",
      " 80   Hill_Assist                                object \n",
      " 81   Gear_Indicator                             object \n",
      " 82   3_Point_Seat-Belt_in_Middle_Rear_Seat      object \n",
      " 83   Ambient_Lightning                          object \n",
      " 84   Cargo/Boot_Lights                          object \n",
      " 85   Drive_Modes                                object \n",
      " 86   Engine_Immobilizer                         object \n",
      " 87   High_Speed_Alert_System                    object \n",
      " 88   Lane_Watch_Camera/_Side_Mirror_Camera      object \n",
      " 89   Passenger_Side_Seat-Belt_Reminder          object \n",
      " 90   Seat_Back_Pockets                          object \n",
      " 91   Voice_Recognition                          object \n",
      " 92   Walk_Away_Auto_Car_Lock                    object \n",
      " 93   ABS_(Anti-lock_Braking_System)             object \n",
      " 94   Headlight_Reminder                         object \n",
      " 95   Adjustable_Headrests                       object \n",
      " 96   Gross_Vehicle_Weight                       object \n",
      " 97   Airbags                                    object \n",
      " 98   Door_Ajar_Warning                          object \n",
      " 99   EBD_(Electronic_Brake-force_Distribution)  object \n",
      " 100  Fasten_Seat_Belt_Warning                   object \n",
      " 101  Gear_Shift_Reminder                        object \n",
      " 102  Number_of_Airbags                          float64\n",
      " 103  Compression_Ratio                          object \n",
      " 104  Adjustable_Steering_Column                 object \n",
      " 105  Other_Specs                                object \n",
      " 106  Other_specs                                object \n",
      " 107  Parking_Assistance                         object \n",
      " 108  Key_Off_Reminder                           object \n",
      " 109  USB_Compatibility                          object \n",
      " 110  Android_Auto                               object \n",
      " 111  Apple_CarPlay                              object \n",
      " 112  Cigarette_Lighter                          object \n",
      " 113  Infotainment_Screen                        object \n",
      " 114  Multifunction_Steering_Wheel               object \n",
      " 115  Average_Speed                              object \n",
      " 116  EBA_(Electronic_Brake_Assist)              object \n",
      " 117  Seat_Height_Adjustment                     object \n",
      " 118  Navigation_System                          object \n",
      " 119  Second_Row_AC_Vents                        object \n",
      " 120  Tyre_Pressure_Monitoring_System            object \n",
      " 121  Rear_Center_Armrest                        object \n",
      " 122  iPod_Compatibility                         object \n",
      " 123  ESP_(Electronic_Stability_Program)         object \n",
      " 124  Cooled_Glove_Box                           object \n",
      " 125  Recommended_Tyre_Pressure                  object \n",
      " 126  Heated_Seats                               object \n",
      " 127  Turbocharger                               object \n",
      " 128  ISOFIX_(Child-Seat_Mount)                  object \n",
      " 129  Rain_Sensing_Wipers                        object \n",
      " 130  Paddle_Shifters                            object \n",
      " 131  Leather_Wrapped_Steering                   object \n",
      " 132  Automatic_Headlamps                        object \n",
      " 133  Engine_Type                                object \n",
      " 134  ASR_/_Traction_Control                     object \n",
      " 135  Cruise_Control                             object \n",
      " 136  USB_Ports                                  float64\n",
      " 137  Heads-Up_Display                           object \n",
      " 138  Welcome_Lights                             object \n",
      " 139  Battery                                    object \n",
      " 140  Electric_Range                             object \n",
      " 141  Fuel                                       int32  \n",
      " 142  clusterpred                                int32  \n",
      "dtypes: float64(9), int32(2), object(132)\n",
      "memory usage: 1.4+ MB\n"
     ]
    },
    {
     "data": {
      "text/html": [
       "<div>\n",
       "<style scoped>\n",
       "    .dataframe tbody tr th:only-of-type {\n",
       "        vertical-align: middle;\n",
       "    }\n",
       "\n",
       "    .dataframe tbody tr th {\n",
       "        vertical-align: top;\n",
       "    }\n",
       "\n",
       "    .dataframe thead th {\n",
       "        text-align: right;\n",
       "    }\n",
       "</style>\n",
       "<table border=\"1\" class=\"dataframe\">\n",
       "  <thead>\n",
       "    <tr style=\"text-align: right;\">\n",
       "      <th></th>\n",
       "    </tr>\n",
       "  </thead>\n",
       "  <tbody>\n",
       "  </tbody>\n",
       "</table>\n",
       "</div>"
      ],
      "text/plain": [
       "Empty DataFrame\n",
       "Columns: []\n",
       "Index: []"
      ]
     },
     "execution_count": 53,
     "metadata": {},
     "output_type": "execute_result"
    }
   ],
   "source": [
    "pd.DataFrame(df.info(141))"
   ]
  },
  {
   "cell_type": "code",
   "execution_count": 54,
   "id": "043508e7",
   "metadata": {},
   "outputs": [],
   "source": [
    "df['Number_of_Airbags'] = df['Number_of_Airbags'].fillna(df['Number_of_Airbags'].mean()) \n",
    "df['Body_Type'] = df['Body_Type'].fillna(df['Body_Type'].mode()[0])\n",
    "df['Fuel_System'] = df['Fuel_System'].fillna(df['Fuel_System'].mode()[0])\n",
    "df['ARAI_Certified_Mileage'] = df['ARAI_Certified_Mileage'].fillna(df['Valves_Per_Cylinder'].mean()) "
   ]
  },
  {
   "cell_type": "code",
   "execution_count": 55,
   "id": "c1418158",
   "metadata": {},
   "outputs": [],
   "source": [
    "df['Displacement'] = df['Displacement'].str.replace('cc' , '')\n",
    "df['Displacement'] = df['Displacement'].fillna(method = 'pad')"
   ]
  },
  {
   "cell_type": "code",
   "execution_count": 82,
   "id": "666b7b74",
   "metadata": {},
   "outputs": [
    {
     "data": {
      "image/png": "[encoded data removed]",
      "text/plain": [
       "<Figure size 4320x1440 with 1 Axes>"
      ]
     },
     "metadata": {},
     "output_type": "display_data"
    }
   ],
   "source": [
    "fig = plt.figure(figsize = (60,20))\n",
    "rs = fig.subplots()\n",
    "df.Make.value_counts().plot(ax=rs, kind='pie')\n",
    "rs.set_ylabel(\"\")\n",
    "rs.set_title(\"Top Car Making Companies\")\n",
    "plt.show()\n"
   ]
  },
  {
   "cell_type": "markdown",
   "id": "f8dc8687",
   "metadata": {},
   "source": [
    "# Observation:\n",
    "1.The most popular car is Maruthi Suzuki\n"
   ]
  },
  {
   "cell_type": "code",
   "execution_count": null,
   "id": "aed39bb6",
   "metadata": {},
   "outputs": [],
   "source": []
  },
  {
   "cell_type": "code",
   "execution_count": null,
   "id": "e80718e8",
   "metadata": {},
   "outputs": [],
   "source": []
  },
  {
   "cell_type": "code",
   "execution_count": null,
   "id": "8079e75d",
   "metadata": {},
   "outputs": [],
   "source": []
  },
  {
   "cell_type": "code",
   "execution_count": null,
   "id": "db87b436",
   "metadata": {},
   "outputs": [],
   "source": []
  },
  {
   "cell_type": "code",
   "execution_count": null,
   "id": "2d29aa90",
   "metadata": {},
   "outputs": [],
   "source": []
  },
  {
   "cell_type": "code",
   "execution_count": null,
   "id": "fc5ecd71",
   "metadata": {},
   "outputs": [],
   "source": []
  },
  {
   "cell_type": "code",
   "execution_count": null,
   "id": "1dcdf9ca",
   "metadata": {},
   "outputs": [],
   "source": []
  },
  {
   "cell_type": "code",
   "execution_count": null,
   "id": "b8396319",
   "metadata": {},
   "outputs": [],
   "source": []
  },
  {
   "cell_type": "code",
   "execution_count": null,
   "id": "598f8947",
   "metadata": {},
   "outputs": [],
   "source": []
  },
  {
   "cell_type": "code",
   "execution_count": null,
   "id": "d8416d51",
   "metadata": {},
   "outputs": [],
   "source": []
  },
  {
   "cell_type": "code",
   "execution_count": null,
   "id": "077a5711",
   "metadata": {},
   "outputs": [],
   "source": []
  },
  {
   "cell_type": "code",
   "execution_count": null,
   "id": "3e080a59",
   "metadata": {},
   "outputs": [],
   "source": []
  },
  {
   "cell_type": "code",
   "execution_count": null,
   "id": "350d1e23",
   "metadata": {},
   "outputs": [],
   "source": []
  },
  {
   "cell_type": "code",
   "execution_count": null,
   "id": "fe3a30cc",
   "metadata": {},
   "outputs": [],
   "source": []
  },
  {
   "cell_type": "code",
   "execution_count": null,
   "id": "3fa7df9c",
   "metadata": {},
   "outputs": [],
   "source": []
  },
  {
   "cell_type": "code",
   "execution_count": null,
   "id": "2dd8f7f9",
   "metadata": {},
   "outputs": [],
   "source": []
  },
  {
   "cell_type": "code",
   "execution_count": null,
   "id": "d6750c02",
   "metadata": {},
   "outputs": [],
   "source": []
  },
  {
   "cell_type": "code",
   "execution_count": null,
   "id": "74c94fac",
   "metadata": {},
   "outputs": [],
   "source": []
  }
 ],
 "metadata": {
  "kernelspec": {
   "display_name": "Python 3 (ipykernel)",
   "language": "python",
   "name": "python3"
  },
  "language_info": {
   "codemirror_mode": {
    "name": "ipython",
    "version": 3
   },
   "file_extension": ".py",
   "mimetype": "text/x-python",
   "name": "python",
   "nbconvert_exporter": "python",
   "pygments_lexer": "ipython3",
   "version": "3.9.12"
  }
 },
 "nbformat": 4,
 "nbformat_minor": 5
}
